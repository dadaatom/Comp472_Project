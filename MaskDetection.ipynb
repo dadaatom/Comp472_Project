{
 "cells": [
  {
   "cell_type": "markdown",
   "metadata": {
    "colab_type": "text",
    "id": "view-in-github"
   },
   "source": [
    "<a href=\"https://colab.research.google.com/github/dadaatom/Comp472_Project/blob/main/MaskDetection.ipynb\" target=\"_parent\"><img src=\"https://colab.research.google.com/assets/colab-badge.svg\" alt=\"Open In Colab\"/></a>"
   ]
  },
  {
   "cell_type": "code",
   "execution_count": 1,
   "metadata": {
    "colab": {
     "base_uri": "https://localhost:8080/"
    },
    "id": "oO0itxEcsKwH",
    "outputId": "a6ccc060-e3ad-45ee-d1ff-56abf35ffafd"
   },
   "outputs": [
    {
     "name": "stdout",
     "output_type": "stream",
     "text": [
      "Requirement already satisfied: split-folders in c:\\users\\max\\miniconda3\\envs\\comp472\\lib\\site-packages (0.5.1)\n"
     ]
    }
   ],
   "source": [
    "!pip install split-folders"
   ]
  },
  {
   "cell_type": "code",
   "execution_count": 2,
   "metadata": {
    "id": "YppYMppNsMXE"
   },
   "outputs": [],
   "source": [
    "# PREPROCESSING IMPORTS #\n",
    "import os\n",
    "import splitfolders\n",
    "\n",
    "import tensorflow as tf\n",
    "from tensorflow import keras\n",
    "from tensorflow.keras.preprocessing.image import ImageDataGenerator\n",
    "from torchvision import datasets, transforms"
   ]
  },
  {
   "cell_type": "code",
   "execution_count": 3,
   "metadata": {
    "id": "OY9F4JTsuQmb"
   },
   "outputs": [],
   "source": [
    "# TRAINING IMPORTS #\n",
    "\n",
    "import numpy as np\n",
    "\n",
    "import torch\n",
    "import torch.nn as nn\n",
    "import torchvision.transforms as transforms"
   ]
  },
  {
   "cell_type": "code",
   "execution_count": 4,
   "metadata": {
    "id": "lfGnSiXjt8PJ"
   },
   "outputs": [],
   "source": [
    "# EVALUATION IMPORTS #\n",
    "\n",
    "import matplotlib.pyplot as plt\n",
    "import itertools\n",
    "\n",
    "import sklearn\n",
    "from sklearn.metrics import confusion_matrix\n",
    "from sklearn.metrics import f1_score\n",
    "from sklearn.metrics import recall_score\n",
    "from sklearn.metrics import precision_score\n",
    "from sklearn.metrics import accuracy_score"
   ]
  },
  {
   "cell_type": "code",
   "execution_count": 5,
   "metadata": {},
   "outputs": [
    {
     "data": {
      "text/plain": [
       "[]"
      ]
     },
     "execution_count": 5,
     "metadata": {},
     "output_type": "execute_result"
    }
   ],
   "source": [
    "tf.config.list_physical_devices('GPU')"
   ]
  },
  {
   "cell_type": "code",
   "execution_count": 6,
   "metadata": {
    "id": "tz-I7GPRtvAg"
   },
   "outputs": [],
   "source": [
    "# ================================ PREPROCESSING ================================ #"
   ]
  },
  {
   "cell_type": "code",
   "execution_count": 7,
   "metadata": {
    "id": "3ve5KGR_sOJq"
   },
   "outputs": [],
   "source": [
    "imagePath = \"Images\"\n",
    "outputPath = \"train_test_sets\"\n",
    "\n",
    "trainDir = outputPath+\"/train\"\n",
    "testDir = outputPath+\"/test\"\n",
    "\n",
    "classes = [\"None\", \"N95\", \"Surgical\", \"Cloth\"] #Folders should be labeled the same as these classes."
   ]
  },
  {
   "cell_type": "code",
   "execution_count": 8,
   "metadata": {
    "colab": {
     "base_uri": "https://localhost:8080/"
    },
    "id": "cWuQWg9PsQoh",
    "outputId": "c7ed7768-4272-4bba-ded9-1cbc3cce9388"
   },
   "outputs": [],
   "source": [
    "splitfolders.ratio(imagePath, output=outputPath, seed=0, ratio=(.8, 0.1,.1))"
   ]
  },
  {
   "cell_type": "code",
   "execution_count": 22,
   "metadata": {
    "id": "DxvAhHrrsSXZ"
   },
   "outputs": [],
   "source": [
    "train_batch_size = 32\n",
    "test_batch_size  = 100\n",
    "\n",
    "img_height = 100\n",
    "img_width = 100"
   ]
  },
  {
   "cell_type": "code",
   "execution_count": 47,
   "metadata": {
    "id": "AMqkOaDgdk-I"
   },
   "outputs": [],
   "source": [
    "transform = transforms.Compose([transforms.Resize((img_width,img_height)),\n",
    "                                transforms.ToTensor(),\n",
    "                                transforms.Normalize((0.5, 0.5, 0.5), (0.5, 0.5, 0.5))])\n",
    "\n",
    "train_ds = datasets.ImageFolder(trainDir, transform=transform)\n",
    "train_loader = torch.utils.data.DataLoader(train_ds, batch_size=train_batch_size, shuffle=True)\n",
    "\n",
    "test_ds = datasets.ImageFolder(testDir, transform=transform)\n",
    "test_loader = torch.utils.data.DataLoader(test_ds, batch_size=test_batch_size, shuffle=False)"
   ]
  },
  {
   "cell_type": "code",
   "execution_count": 58,
   "metadata": {},
   "outputs": [],
   "source": [
    "for (images, labels) in train_loader:\n",
    "    img = transforms.ToPILImage()\n",
    "    img = img(images[0])\n",
    "    img.show()\n",
    "    break"
   ]
  },
  {
   "cell_type": "code",
   "execution_count": 12,
   "metadata": {
    "id": "lmE2aCbDtqi5"
   },
   "outputs": [],
   "source": [
    "# ================================ TRAINING ================================ #"
   ]
  },
  {
   "cell_type": "code",
   "execution_count": 13,
   "metadata": {
    "id": "f_dtvZU4siBg"
   },
   "outputs": [],
   "source": [
    "num_epochs = 4\n",
    "learning_rate = 0.001"
   ]
  },
  {
   "cell_type": "code",
   "execution_count": 50,
   "metadata": {
    "id": "f7EoQQJSslnh"
   },
   "outputs": [],
   "source": [
    "class CNN(nn.Module):\n",
    "  def __init__(self):\n",
    "    super(CNN, self).__init__()\n",
    "    self.conv_layer = nn.Sequential(\n",
    "\n",
    "        nn.Conv2d(in_channels=3, out_channels=32, kernel_size=3, padding=1),\n",
    "        nn.BatchNorm2d(32),\n",
    "        nn.LeakyReLU(inplace=True),\n",
    "        nn.Conv2d(in_channels=32, out_channels=32, kernel_size=3, padding=1),\n",
    "        nn.BatchNorm2d(32),\n",
    "        nn.LeakyReLU(inplace=True),\n",
    "        nn.MaxPool2d(kernel_size=2, stride=2),\n",
    "        nn.Conv2d(in_channels=32, out_channels=64, kernel_size=3, padding=1),\n",
    "        nn.BatchNorm2d(64),\n",
    "        nn.LeakyReLU(inplace=True),\n",
    "        nn.Conv2d(in_channels=64, out_channels=64, kernel_size=3, padding=1),\n",
    "        nn.BatchNorm2d(64),\n",
    "        nn.LeakyReLU(inplace=True),\n",
    "        nn.MaxPool2d(kernel_size=2, stride=2),\n",
    "    )\n",
    "\n",
    "    self.fc_layer = nn.Sequential(\n",
    "        nn.Dropout(p=0.1),\n",
    "        nn.Linear(40000, 1000),\n",
    "        nn.ReLU(inplace=True),\n",
    "        nn.Linear(1000, 512),\n",
    "        nn.ReLU(inplace=True),\n",
    "        nn.Dropout(p=0.1),\n",
    "        nn.Linear(512, 10)\n",
    "    )\n",
    "  def forward(self, x):\n",
    "    # conv layers\n",
    "    x = self.conv_layer(x)\n",
    "\n",
    "    # flatten\n",
    "    x = x.view(x.size(0), -1)\n",
    "\n",
    "    # fc layer\n",
    "    x = self.fc_layer(x)\n",
    "\n",
    "    return x"
   ]
  },
  {
   "cell_type": "code",
   "execution_count": 51,
   "metadata": {
    "id": "J-Q_gwHxtRDM"
   },
   "outputs": [],
   "source": [
    "model = CNN()\n",
    "\n",
    "criterion = nn.CrossEntropyLoss()\n",
    "optimizer = torch.optim.Adam(model.parameters(), lr=learning_rate)"
   ]
  },
  {
   "cell_type": "code",
   "execution_count": 52,
   "metadata": {
    "colab": {
     "base_uri": "https://localhost:8080/",
     "height": 396
    },
    "id": "ybduMYN2tQVj",
    "outputId": "20cb3d07-91cd-4025-d06b-973ad1c90f72"
   },
   "outputs": [],
   "source": [
    "total_step = len(train_loader)\n",
    "loss_list = []\n",
    "acc_list = []\n",
    "for epoch in range(num_epochs):\n",
    "    for i, (images, labels) in enumerate(train_loader):\n",
    "    #for (images, labels) in zip(imagesList, labelsList):\n",
    "      # Forward pass\n",
    "      outputs = model(images)\n",
    "      loss = criterion(outputs, labels)\n",
    "      loss_list.append(loss.item())\n",
    "\n",
    "      # Backprop and optimisation\n",
    "      optimizer.zero_grad()\n",
    "      loss.backward()\n",
    "      optimizer.step()\n",
    "\n",
    "      # Train accuracy\n",
    "      total = labels.size(0)\n",
    "      _, predicted = torch.max(outputs.data, 1)\n",
    "      correct = (predicted == labels).sum().item()\n",
    "      acc_list.append(correct / total)\n",
    "\n",
    "      if (i + 1) % 100 == 0:\n",
    "          print('Epoch [{}/{}], Step [{}/{}], Loss: {:.4f}, Accuracy: {:.2f}%'.format(epoch + 1, num_epochs, i + 1, total_step, loss.item(),(correct / total) * 100))"
   ]
  },
  {
   "cell_type": "markdown",
   "metadata": {
    "id": "ahWU7zGgukRs"
   },
   "source": [
    "============================= PREDICTION TIME BABY!! ============================="
   ]
  },
  {
   "cell_type": "code",
   "execution_count": 53,
   "metadata": {
    "id": "KOv-B-5puj0m"
   },
   "outputs": [],
   "source": [
    "# UHh we gotta figure out this part but we need a y_true and y_pred\n",
    "model.eval()\n",
    "\n",
    "y_true = []\n",
    "y_pred = []\n",
    "\n",
    "with torch.no_grad():\n",
    "    correct = 0\n",
    "    total = 0\n",
    "    for images, labels in test_loader:\n",
    "        outputs = model(images)\n",
    "        _, predicted = torch.max(outputs.data, 1)\n",
    "        \n",
    "        for l,p in zip(labels.numpy(), predicted.numpy()):\n",
    "            y_true.append(classes[l])\n",
    "            y_pred.append(classes[p])"
   ]
  },
  {
   "cell_type": "markdown",
   "metadata": {
    "id": "3u50TETTtb93"
   },
   "source": [
    "================================== EVALUATION =================================="
   ]
  },
  {
   "cell_type": "code",
   "execution_count": 54,
   "metadata": {
    "id": "HEJFsTxCtyjd"
   },
   "outputs": [],
   "source": [
    "def plot_confusion_matrix(cm, classes,\n",
    "                          normalize=False,\n",
    "                          title='Confusion matrix',\n",
    "                          cmap=plt.cm.Blues):\n",
    "    \"\"\"\n",
    "    This function prints and plots the confusion matrix.\n",
    "    Normalization can be applied by setting `normalize=True`.\n",
    "    \"\"\"\n",
    "    plt.imshow(cm, interpolation='nearest', cmap=cmap)\n",
    "    plt.title(title)\n",
    "    plt.colorbar()\n",
    "    tick_marks = np.arange(len(classes))\n",
    "    plt.xticks(tick_marks, classes, rotation=45)\n",
    "    plt.yticks(tick_marks, classes)\n",
    "\n",
    "    if normalize:\n",
    "        cm = cm.astype('float') / cm.sum(axis=1)[:, np.newaxis]\n",
    "        print(\"Normalized confusion matrix\")\n",
    "    else:\n",
    "        print('Confusion matrix, without normalization')\n",
    "\n",
    "    print(cm)\n",
    "\n",
    "    thresh = cm.max() / 2.\n",
    "    for i, j in itertools.product(range(cm.shape[0]), range(cm.shape[1])):\n",
    "        plt.text(j, i, cm[i, j],\n",
    "                 horizontalalignment=\"center\",\n",
    "                 color=\"white\" if cm[i, j] > thresh else \"black\")\n",
    "\n",
    "    plt.tight_layout()\n",
    "    plt.ylabel('True label')\n",
    "    plt.xlabel('Predicted label')"
   ]
  },
  {
   "cell_type": "code",
   "execution_count": 55,
   "metadata": {
    "id": "KYcq_Ixeur9t"
   },
   "outputs": [],
   "source": [
    "confusion_matrix(y_true=y_true, y_pred=y_pred)\n",
    "cm_plot_labels = classes\n",
    "cm = confusion_matrix(y_true=y_true, y_pred=y_pred, labels=cm_plot_labels)"
   ]
  },
  {
   "cell_type": "code",
   "execution_count": 56,
   "metadata": {
    "id": "y05Iu4o5uuX8"
   },
   "outputs": [
    {
     "name": "stdout",
     "output_type": "stream",
     "text": [
      "Confusion matrix, without normalization\n",
      "[[12  1 13 11]\n",
      " [ 8  1  7 10]\n",
      " [11  1 18  5]\n",
      " [ 8  3 12 20]]\n"
     ]
    },
    {
     "data": {
      "image/png": "[encoded data removed]",
      "text/plain": [
       "<Figure size 432x288 with 2 Axes>"
      ]
     },
     "metadata": {
      "needs_background": "light"
     },
     "output_type": "display_data"
    }
   ],
   "source": [
    "plot_confusion_matrix(cm=cm, classes=cm_plot_labels, title=\"Confusion Matrix\", cmap=plt.cm.Reds)"
   ]
  },
  {
   "cell_type": "code",
   "execution_count": 69,
   "metadata": {
    "id": "5bM_AVQauwSP",
    "scrolled": true
   },
   "outputs": [
    {
     "name": "stdout",
     "output_type": "stream",
     "text": [
      "precision:  0.33\n",
      "recall:  0.36\n",
      "f1:  0.34\n",
      "accuracy:  0.36\n"
     ]
    }
   ],
   "source": [
    "precision = precision_score(y_true, y_pred, average=\"weighted\")\n",
    "recall = recall_score(y_true, y_pred, average=\"weighted\")\n",
    "f1 = f1_score(y_true, y_pred, average=\"weighted\")\n",
    "accuracy = accuracy_score(y_true, y_pred)\n",
    "\n",
    "print(f\"precision: {precision: .2f}\")\n",
    "print(f\"recall: {recall: .2f}\")\n",
    "print(f\"f1: {f1: .2f}\")\n",
    "print(f\"accuracy: {accuracy: .2f}\")"
   ]
  }
 ],
 "metadata": {
  "colab": {
   "authorship_tag": "ABX9TyMsETvTb8D9MG5GUpul2iK9",
   "collapsed_sections": [],
   "include_colab_link": true,
   "name": "MaskDetection.ipynb",
   "provenance": []
  },
  "kernelspec": {
   "display_name": "Python 3",
   "language": "python",
   "name": "python3"
  },
  "language_info": {
   "codemirror_mode": {
    "name": "ipython",
    "version": 3
   },
   "file_extension": ".py",
   "mimetype": "text/x-python",
   "name": "python",
   "nbconvert_exporter": "python",
   "pygments_lexer": "ipython3",
   "version": "3.6.13"
  }
 },
 "nbformat": 4,
 "nbformat_minor": 1
}
