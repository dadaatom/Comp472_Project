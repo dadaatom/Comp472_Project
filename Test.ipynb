{
  "nbformat": 4,
  "nbformat_minor": 0,
  "metadata": {
    "colab": {
      "name": "Test.ipynb",
      "provenance": [],
      "authorship_tag": "ABX9TyO/CMJWJY9XyzrCNM3BNXw9",
      "include_colab_link": true
    },
    "kernelspec": {
      "name": "python3",
      "display_name": "Python 3"
    },
    "language_info": {
      "name": "python"
    }
  },
  "cells": [
    {
      "cell_type": "markdown",
      "metadata": {
        "id": "view-in-github",
        "colab_type": "text"
      },
      "source": [
        "<a href=\"https://colab.research.google.com/github/dadaatom/Comp472_Project/blob/main/Test.ipynb\" target=\"_parent\"><img src=\"https://colab.research.google.com/assets/colab-badge.svg\" alt=\"Open In Colab\"/></a>"
      ]
    },
    {
      "cell_type": "code",
      "source": [
        "import numpy as np\n",
        "import torch"
      ],
      "metadata": {
        "id": "FdL_bwU1ZNMC"
      },
      "execution_count": 2,
      "outputs": []
    },
    {
      "cell_type": "code",
      "source": [
        "model = torch.nn.Sequential(\n",
        "  torch.nn.Conv2d(1, 3, 5, padding=(5//2)),\n",
        "  torch.nn.ReLU(),\n",
        "  torch.nn.MaxPool2d(28),\n",
        "  torch.nn.Flatten(),\n",
        "  torch.nn.Linear(3, 10)\n",
        ")"
      ],
      "metadata": {
        "id": "KhVVMijSZYc9"
      },
      "execution_count": 3,
      "outputs": []
    }
  ]
}