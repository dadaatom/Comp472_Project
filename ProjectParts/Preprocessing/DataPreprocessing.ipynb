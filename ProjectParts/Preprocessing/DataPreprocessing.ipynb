{
 "cells": [
  {
   "cell_type": "markdown",
   "metadata": {
    "colab_type": "text",
    "id": "view-in-github"
   },
   "source": [
    "<a href=\"https://colab.research.google.com/github/dadaatom/Comp472_Project/blob/main/DataPreprocessing.ipynb\" target=\"_parent\"><img src=\"https://colab.research.google.com/assets/colab-badge.svg\" alt=\"Open In Colab\"/></a>"
   ]
  },
  {
   "cell_type": "code",
   "execution_count": 53,
   "metadata": {
    "colab": {
     "base_uri": "https://localhost:8080/"
    },
    "id": "TiPK72cTn4Xl",
    "outputId": "38ddccbf-4347-4c22-d996-f39f9fc9d78f"
   },
   "outputs": [
    {
     "name": "stdout",
     "output_type": "stream",
     "text": [
      "Looking in indexes: https://pypi.org/simple, https://us-python.pkg.dev/colab-wheels/public/simple/\n",
      "Collecting split-folders\n",
      "  Downloading split_folders-0.5.1-py3-none-any.whl (8.4 kB)\n",
      "Installing collected packages: split-folders\n",
      "Successfully installed split-folders-0.5.1\n"
     ]
    }
   ],
   "source": [
    "!pip install split-folders"
   ]
  },
  {
   "cell_type": "code",
   "execution_count": 54,
   "metadata": {
    "id": "FdL_bwU1ZNMC"
   },
   "outputs": [],
   "source": [
    "import os\n",
    "import splitfolders\n",
    "\n",
    "import tensorflow as tf\n",
    "from tensorflow import keras\n",
    "from tensorflow.keras.preprocessing.image import ImageDataGenerator\n",
    "from torchvision import datasets, transforms"
   ]
  },
  {
   "cell_type": "code",
   "execution_count": 63,
   "metadata": {
    "id": "L2VEvfAWCf8-"
   },
   "outputs": [],
   "source": [
    "imagePath = \"Dataset\"\n",
    "outputPath = \"train_test_sets\"\n",
    "\n",
    "trainDir = outputPath+\"/train\"\n",
    "testDir = outputPath+\"/test\"\n",
    "\n",
    "classes = [\"None\", \"N95\", \"Surgical\", \"Cloth\"] #Folders should be labeled the same as these classes."
   ]
  },
  {
   "cell_type": "code",
   "execution_count": 65,
   "metadata": {
    "colab": {
     "base_uri": "https://localhost:8080/"
    },
    "id": "--m3XhC5oEoT",
    "outputId": "5bbc0dee-4ed1-485c-b6e6-f63cf87c00a6"
   },
   "outputs": [
    {
     "name": "stderr",
     "output_type": "stream",
     "text": [
      "Copying files: 1378 files [00:01, 1047.45 files/s]\n"
     ]
    }
   ],
   "source": [
    "splitfolders.ratio(imagePath, output=outputPath, seed=0, ratio=(.8, 0.1,.1))"
   ]
  },
  {
   "cell_type": "code",
   "execution_count": 57,
   "metadata": {
    "id": "hIGTPYRzBwL6"
   },
   "outputs": [],
   "source": [
    "train_batch_size = 32\n",
    "test_batch_size  = 100\n",
    "\n",
    "img_height = 100\n",
    "img_width = 100"
   ]
  },
  {
   "cell_type": "code",
   "execution_count": 66,
   "metadata": {
    "colab": {
     "base_uri": "https://localhost:8080/"
    },
    "id": "nOM39dkkG0b9",
    "outputId": "3aadae4d-d22e-408d-d337-fe2a50fe9863"
   },
   "outputs": [
    {
     "name": "stdout",
     "output_type": "stream",
     "text": [
      "Found 1101 files belonging to 5 classes.\n",
      "Found 140 files belonging to 5 classes.\n"
     ]
    }
   ],
   "source": [
    "transform = transforms.Compose([transforms.Resize((img_width, img_height)),\n",
    "                                transforms.ToTensor(),\n",
    "                                transforms.Normalize((0.5, 0.5, 0.5), (0.5, 0.5, 0.5))])\n",
    "\n",
    "train_ds = datasets.ImageFolder(trainDir, transform=transform)\n",
    "train_loader = torch.utils.data.DataLoader(train_ds, batch_size=train_batch_size, shuffle=True)\n",
    "\n",
    "test_ds = datasets.ImageFolder(testDir, transform=transform)\n",
    "test_loader = torch.utils.data.DataLoader(test_ds, batch_size=test_batch_size, shuffle=False)"
   ]
  }
 ],
 "metadata": {
  "colab": {
   "authorship_tag": "ABX9TyOzbUg8td96tpeDAPAceQhG",
   "include_colab_link": true,
   "mount_file_id": "https://github.com/dadaatom/Comp472_Project/blob/main/Test.ipynb",
   "name": "Test.ipynb",
   "provenance": []
  },
  "kernelspec": {
   "display_name": "Python 3",
   "language": "python",
   "name": "python3"
  },
  "language_info": {
   "codemirror_mode": {
    "name": "ipython",
    "version": 3
   },
   "file_extension": ".py",
   "mimetype": "text/x-python",
   "name": "python",
   "nbconvert_exporter": "python",
   "pygments_lexer": "ipython3",
   "version": "3.6.13"
  }
 },
 "nbformat": 4,
 "nbformat_minor": 1
}
