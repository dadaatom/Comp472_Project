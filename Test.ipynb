{
  "nbformat": 4,
  "nbformat_minor": 0,
  "metadata": {
    "colab": {
      "name": "Test.ipynb",
      "provenance": [],
      "authorship_tag": "ABX9TyNOV+ElOEBTa0PxoKnhrCZq",
      "include_colab_link": true
    },
    "kernelspec": {
      "name": "python3",
      "display_name": "Python 3"
    },
    "language_info": {
      "name": "python"
    }
  },
  "cells": [
    {
      "cell_type": "markdown",
      "metadata": {
        "id": "view-in-github",
        "colab_type": "text"
      },
      "source": [
        "<a href=\"https://colab.research.google.com/github/dadaatom/Comp472_Project/blob/main/Test.ipynb\" target=\"_parent\"><img src=\"https://colab.research.google.com/assets/colab-badge.svg\" alt=\"Open In Colab\"/></a>"
      ]
    },
    {
      "cell_type": "code",
      "source": [
        "import numpy as np\n",
        "import sklearn\n",
        "import torch"
      ],
      "metadata": {
        "id": "FdL_bwU1ZNMC"
      },
      "execution_count": 1,
      "outputs": []
    },
    {
      "cell_type": "code",
      "source": [
        "model = torch.nn.Sequential(\n",
        "  torch.nn.Conv2d(1, 3, 5, padding=(5//2)),\n",
        "  torch.nn.ReLU(),\n",
        "  torch.nn.MaxPool2d(28),\n",
        "  torch.nn.Flatten(),\n",
        "  torch.nn.Linear(3, 10)\n",
        ")"
      ],
      "metadata": {
        "id": "KhVVMijSZYc9"
      },
      "execution_count": null,
      "outputs": []
    },
    {
      "cell_type": "code",
      "source": [
        "test = np.zeros((5,2))\n",
        "print(test)"
      ],
      "metadata": {
        "id": "7GnkBtcYj0n7",
        "outputId": "534cd060-ed99-4c07-9cea-d444ee6470d2",
        "colab": {
          "base_uri": "https://localhost:8080/"
        }
      },
      "execution_count": null,
      "outputs": [
        {
          "output_type": "stream",
          "name": "stdout",
          "text": [
            "[[0. 0.]\n",
            " [0. 0.]\n",
            " [0. 0.]\n",
            " [0. 0.]\n",
            " [0. 0.]]\n"
          ]
        }
      ]
    },
    {
      "cell_type": "code",
      "source": [
        "print(\"these print lines should appear in github :)\")"
      ],
      "metadata": {
        "id": "iD7-kYGzkCQb",
        "outputId": "79f6c1e3-3af8-45a0-8c59-87a53578be27",
        "colab": {
          "base_uri": "https://localhost:8080/"
        }
      },
      "execution_count": null,
      "outputs": [
        {
          "output_type": "stream",
          "name": "stdout",
          "text": [
            "these print lines should appear in github :)\n"
          ]
        }
      ]
    }
  ]
}